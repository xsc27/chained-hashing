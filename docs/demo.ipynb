{
 "cells": [
  {
   "cell_type": "markdown",
   "id": "dcb65a6f",
   "metadata": {
    "slideshow": {
     "slide_type": "slide"
    }
   },
   "source": [
    "# Chained Hashing CLI"
   ]
  },
  {
   "cell_type": "code",
   "execution_count": 1,
   "id": "39b4644b",
   "metadata": {},
   "outputs": [
    {
     "name": "stdout",
     "output_type": "stream",
     "text": [
      "usage: chcli [-h] [-v] [-l {notset,debug,info,warning,error,critical}]\r\n",
      "             {decode,encode} ...\r\n",
      "\r\n",
      "Encode and decode files with chained hashing.\r\n",
      "\r\n",
      "options:\r\n",
      "  -h, --help            show this help message and exit\r\n",
      "  -v, --version         show program's version number and exit\r\n",
      "  -l {notset,debug,info,warning,error,critical}, --log-level {notset,debug,info,warning,error,critical}\r\n",
      "                        set log level\r\n",
      "\r\n",
      "actions:\r\n",
      "  {decode,encode}\r\n",
      "    decode              decode data\r\n",
      "    encode              encode data\r\n"
     ]
    }
   ],
   "source": [
    "! chcli --help"
   ]
  },
  {
   "cell_type": "markdown",
   "id": "185fa56e",
   "metadata": {
    "slideshow": {
     "slide_type": "slide"
    }
   },
   "source": [
    "# Encode Arguments"
   ]
  },
  {
   "cell_type": "code",
   "execution_count": 2,
   "id": "656fe75d",
   "metadata": {},
   "outputs": [
    {
     "name": "stdout",
     "output_type": "stream",
     "text": [
      "usage: chcli encode [-h] -i SRC -o DEST [-b BLOCK_SIZE]\r\n",
      "\r\n",
      "options:\r\n",
      "  -h, --help            show this help message and exit\r\n",
      "  -i SRC, --input SRC   input file\r\n",
      "  -o DEST, --output DEST\r\n",
      "                        output file\r\n",
      "  -b BLOCK_SIZE, --block_size BLOCK_SIZE\r\n",
      "                        block size\r\n"
     ]
    }
   ],
   "source": [
    "! chcli encode --help"
   ]
  },
  {
   "cell_type": "markdown",
   "id": "b9d892c2",
   "metadata": {
    "slideshow": {
     "slide_type": "slide"
    }
   },
   "source": [
    "# Run Encode"
   ]
  },
  {
   "cell_type": "code",
   "execution_count": 7,
   "id": "cb63358a",
   "metadata": {},
   "outputs": [
    {
     "name": "stdout",
     "output_type": "stream",
     "text": [
      "INFO:chained_hashing.main:0.69% complete at 11264\r\n",
      "INFO:chained_hashing.main:9.72% complete at 10240\r\n",
      "INFO:chained_hashing.main:18.74% complete at 9216\r\n",
      "INFO:chained_hashing.main:27.77% complete at 8192\r\n",
      "INFO:chained_hashing.main:36.80% complete at 7168\r\n",
      "INFO:chained_hashing.main:45.83% complete at 6144\r\n",
      "INFO:chained_hashing.main:54.86% complete at 5120\r\n",
      "INFO:chained_hashing.main:63.89% complete at 4096\r\n",
      "INFO:chained_hashing.main:72.91% complete at 3072\r\n",
      "INFO:chained_hashing.main:81.94% complete at 2048\r\n",
      "INFO:chained_hashing.main:90.97% complete at 1024\r\n",
      "INFO:chained_hashing.main:h0 is 91863346568473a015c8959d6b702b5cabf2c1a63c2be754369bb7e0b840de08\r\n"
     ]
    }
   ],
   "source": [
    "! chcli encode --input ../LICENSE --output LICENSE.ch --block_size 1024"
   ]
  },
  {
   "cell_type": "markdown",
   "id": "abd7f063",
   "metadata": {
    "slideshow": {
     "slide_type": "slide"
    }
   },
   "source": [
    "# Compare File Size"
   ]
  },
  {
   "cell_type": "code",
   "execution_count": 13,
   "id": "e83b8126",
   "metadata": {},
   "outputs": [
    {
     "name": "stdout",
     "output_type": "stream",
     "text": [
      "-rw-r--r--  1 carlos.meza  staff  11342 Nov 24 01:26 ../LICENSE\r\n",
      "-rw-r--r--  1 carlos.meza  staff  11726 Dec 13 23:19 LICENSE.ch\r\n"
     ]
    }
   ],
   "source": [
    "! ls -l ../LICENSE && ls -l LICENSE.ch"
   ]
  },
  {
   "cell_type": "markdown",
   "id": "beeaed2a",
   "metadata": {
    "slideshow": {
     "slide_type": "slide"
    }
   },
   "source": [
    "# Decode Arguments"
   ]
  },
  {
   "cell_type": "code",
   "execution_count": 17,
   "id": "f3214ad4",
   "metadata": {},
   "outputs": [
    {
     "name": "stdout",
     "output_type": "stream",
     "text": [
      "usage: chcli decode [-h] -i SRC [-o DEST] [-b BLOCK_SIZE] [hash]\r\n",
      "\r\n",
      "positional arguments:\r\n",
      "  hash                  h0 hash\r\n",
      "\r\n",
      "options:\r\n",
      "  -h, --help            show this help message and exit\r\n",
      "  -i SRC, --input SRC   input file\r\n",
      "  -o DEST, --output DEST\r\n",
      "                        output file\r\n",
      "  -b BLOCK_SIZE, --block_size BLOCK_SIZE\r\n",
      "                        block size\r\n"
     ]
    }
   ],
   "source": [
    "! chcli decode --help"
   ]
  },
  {
   "cell_type": "markdown",
   "id": "7bef1e89",
   "metadata": {
    "slideshow": {
     "slide_type": "slide"
    }
   },
   "source": [
    "# Run Decode"
   ]
  },
  {
   "cell_type": "code",
   "execution_count": 14,
   "id": "268c88b2",
   "metadata": {
    "slideshow": {
     "slide_type": "-"
    }
   },
   "outputs": [],
   "source": [
    "! chcli decode --input LICENSE.ch --output LICENSE.new --block_size 1024"
   ]
  },
  {
   "cell_type": "markdown",
   "id": "a04e6fd8",
   "metadata": {
    "slideshow": {
     "slide_type": "slide"
    }
   },
   "source": [
    "# Validate Decode"
   ]
  },
  {
   "cell_type": "code",
   "execution_count": 15,
   "id": "1b41e61f",
   "metadata": {},
   "outputs": [
    {
     "name": "stdout",
     "output_type": "stream",
     "text": [
      "-rw-r--r--  1 carlos.meza  staff  11342 Nov 24 01:26 ../LICENSE\r\n",
      "-rw-r--r--  1 carlos.meza  staff  11342 Dec 13 23:24 LICENSE.new\r\n"
     ]
    }
   ],
   "source": [
    "! ls -l ../LICENSE && ls -l LICENSE.new"
   ]
  },
  {
   "cell_type": "code",
   "execution_count": 16,
   "id": "6f301aeb",
   "metadata": {},
   "outputs": [
    {
     "name": "stdout",
     "output_type": "stream",
     "text": [
      "f06e9b20204b25c9055cab189ac39a56eba5c401  ../LICENSE\n",
      "f06e9b20204b25c9055cab189ac39a56eba5c401  LICENSE.new\n"
     ]
    }
   ],
   "source": [
    "! shasum ../LICENSE && shasum LICENSE.new"
   ]
  }
 ],
 "metadata": {
  "celltoolbar": "Slideshow",
  "kernelspec": {
   "display_name": "Python 3 (ipykernel)",
   "language": "python",
   "name": "python3"
  },
  "language_info": {
   "codemirror_mode": {
    "name": "ipython",
    "version": 3
   },
   "file_extension": ".py",
   "mimetype": "text/x-python",
   "name": "python",
   "nbconvert_exporter": "python",
   "pygments_lexer": "ipython3",
   "version": "3.10.0"
  }
 },
 "nbformat": 4,
 "nbformat_minor": 5
}
